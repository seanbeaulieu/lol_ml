{
 "cells": [
  {
   "cell_type": "code",
   "execution_count": 1,
   "id": "f5ec3c7d-275c-4ed9-b904-d7bec87e7e6f",
   "metadata": {
    "tags": []
   },
   "outputs": [],
   "source": [
    "import numpy as np\n",
    "import pandas as pd\n",
    "from sklearn.preprocessing import MultiLabelBinarizer\n",
    "from sklearn.model_selection import train_test_split\n",
    "from sklearn.compose import ColumnTransformer\n",
    "from sklearn.preprocessing import OneHotEncoder\n",
    "import torch\n",
    "from torch.utils.data import Dataset\n",
    "from torchvision import datasets\n",
    "from torchvision.transforms import ToTensor\n",
    "import matplotlib.pyplot as plt"
   ]
  },
  {
   "cell_type": "markdown",
   "id": "145de31d-288e-4e68-839e-40573a275692",
   "metadata": {},
   "source": [
    "We will be doing analysis on all of the professional League of Legends games played in 2021, 2022 and 2023. The goal of this project is to first derive basic stats of the competitive scene in order to better inform players and teams about consistent winning strategies that persist through patches.\n",
    "\n",
    "We will first start by importing the dataset, from oracleselixer.com "
   ]
  },
  {
   "cell_type": "code",
   "execution_count": 2,
   "id": "e70fdb51-310d-4c01-87c8-bffcff66e09c",
   "metadata": {
    "tags": []
   },
   "outputs": [
    {
     "data": {
      "text/html": [
       "<div>\n",
       "<style scoped>\n",
       "    .dataframe tbody tr th:only-of-type {\n",
       "        vertical-align: middle;\n",
       "    }\n",
       "\n",
       "    .dataframe tbody tr th {\n",
       "        vertical-align: top;\n",
       "    }\n",
       "\n",
       "    .dataframe thead th {\n",
       "        text-align: right;\n",
       "    }\n",
       "</style>\n",
       "<table border=\"1\" class=\"dataframe\">\n",
       "  <thead>\n",
       "    <tr style=\"text-align: right;\">\n",
       "      <th></th>\n",
       "      <th>gameid</th>\n",
       "      <th>datacompleteness</th>\n",
       "      <th>url</th>\n",
       "      <th>league</th>\n",
       "      <th>year</th>\n",
       "      <th>split</th>\n",
       "      <th>playoffs</th>\n",
       "      <th>date</th>\n",
       "      <th>game</th>\n",
       "      <th>patch</th>\n",
       "      <th>...</th>\n",
       "      <th>opp_csat15</th>\n",
       "      <th>golddiffat15</th>\n",
       "      <th>xpdiffat15</th>\n",
       "      <th>csdiffat15</th>\n",
       "      <th>killsat15</th>\n",
       "      <th>assistsat15</th>\n",
       "      <th>deathsat15</th>\n",
       "      <th>opp_killsat15</th>\n",
       "      <th>opp_assistsat15</th>\n",
       "      <th>opp_deathsat15</th>\n",
       "    </tr>\n",
       "  </thead>\n",
       "  <tbody>\n",
       "    <tr>\n",
       "      <th>0</th>\n",
       "      <td>ESPORTSTMNT03/1632489</td>\n",
       "      <td>complete</td>\n",
       "      <td>http://matchhistory.na.leagueoflegends.com/en/...</td>\n",
       "      <td>KeSPA</td>\n",
       "      <td>2021</td>\n",
       "      <td>NaN</td>\n",
       "      <td>0</td>\n",
       "      <td>2021-01-02 07:40:39</td>\n",
       "      <td>1.0</td>\n",
       "      <td>10.25</td>\n",
       "      <td>...</td>\n",
       "      <td>118.0</td>\n",
       "      <td>748.0</td>\n",
       "      <td>-56.0</td>\n",
       "      <td>-4.0</td>\n",
       "      <td>2.0</td>\n",
       "      <td>0.0</td>\n",
       "      <td>1.0</td>\n",
       "      <td>0.0</td>\n",
       "      <td>1.0</td>\n",
       "      <td>1.0</td>\n",
       "    </tr>\n",
       "    <tr>\n",
       "      <th>1</th>\n",
       "      <td>ESPORTSTMNT03/1632489</td>\n",
       "      <td>complete</td>\n",
       "      <td>http://matchhistory.na.leagueoflegends.com/en/...</td>\n",
       "      <td>KeSPA</td>\n",
       "      <td>2021</td>\n",
       "      <td>NaN</td>\n",
       "      <td>0</td>\n",
       "      <td>2021-01-02 07:40:39</td>\n",
       "      <td>1.0</td>\n",
       "      <td>10.25</td>\n",
       "      <td>...</td>\n",
       "      <td>84.0</td>\n",
       "      <td>2120.0</td>\n",
       "      <td>3405.0</td>\n",
       "      <td>62.0</td>\n",
       "      <td>3.0</td>\n",
       "      <td>2.0</td>\n",
       "      <td>0.0</td>\n",
       "      <td>2.0</td>\n",
       "      <td>0.0</td>\n",
       "      <td>3.0</td>\n",
       "    </tr>\n",
       "    <tr>\n",
       "      <th>2</th>\n",
       "      <td>ESPORTSTMNT03/1632489</td>\n",
       "      <td>complete</td>\n",
       "      <td>http://matchhistory.na.leagueoflegends.com/en/...</td>\n",
       "      <td>KeSPA</td>\n",
       "      <td>2021</td>\n",
       "      <td>NaN</td>\n",
       "      <td>0</td>\n",
       "      <td>2021-01-02 07:40:39</td>\n",
       "      <td>1.0</td>\n",
       "      <td>10.25</td>\n",
       "      <td>...</td>\n",
       "      <td>143.0</td>\n",
       "      <td>1578.0</td>\n",
       "      <td>354.0</td>\n",
       "      <td>15.0</td>\n",
       "      <td>2.0</td>\n",
       "      <td>3.0</td>\n",
       "      <td>0.0</td>\n",
       "      <td>0.0</td>\n",
       "      <td>0.0</td>\n",
       "      <td>0.0</td>\n",
       "    </tr>\n",
       "    <tr>\n",
       "      <th>3</th>\n",
       "      <td>ESPORTSTMNT03/1632489</td>\n",
       "      <td>complete</td>\n",
       "      <td>http://matchhistory.na.leagueoflegends.com/en/...</td>\n",
       "      <td>KeSPA</td>\n",
       "      <td>2021</td>\n",
       "      <td>NaN</td>\n",
       "      <td>0</td>\n",
       "      <td>2021-01-02 07:40:39</td>\n",
       "      <td>1.0</td>\n",
       "      <td>10.25</td>\n",
       "      <td>...</td>\n",
       "      <td>120.0</td>\n",
       "      <td>124.0</td>\n",
       "      <td>102.0</td>\n",
       "      <td>10.0</td>\n",
       "      <td>0.0</td>\n",
       "      <td>4.0</td>\n",
       "      <td>2.0</td>\n",
       "      <td>1.0</td>\n",
       "      <td>1.0</td>\n",
       "      <td>2.0</td>\n",
       "    </tr>\n",
       "    <tr>\n",
       "      <th>4</th>\n",
       "      <td>ESPORTSTMNT03/1632489</td>\n",
       "      <td>complete</td>\n",
       "      <td>http://matchhistory.na.leagueoflegends.com/en/...</td>\n",
       "      <td>KeSPA</td>\n",
       "      <td>2021</td>\n",
       "      <td>NaN</td>\n",
       "      <td>0</td>\n",
       "      <td>2021-01-02 07:40:39</td>\n",
       "      <td>1.0</td>\n",
       "      <td>10.25</td>\n",
       "      <td>...</td>\n",
       "      <td>25.0</td>\n",
       "      <td>448.0</td>\n",
       "      <td>450.0</td>\n",
       "      <td>3.0</td>\n",
       "      <td>1.0</td>\n",
       "      <td>4.0</td>\n",
       "      <td>0.0</td>\n",
       "      <td>0.0</td>\n",
       "      <td>2.0</td>\n",
       "      <td>2.0</td>\n",
       "    </tr>\n",
       "  </tbody>\n",
       "</table>\n",
       "<p>5 rows × 123 columns</p>\n",
       "</div>"
      ],
      "text/plain": [
       "                  gameid datacompleteness  \\\n",
       "0  ESPORTSTMNT03/1632489         complete   \n",
       "1  ESPORTSTMNT03/1632489         complete   \n",
       "2  ESPORTSTMNT03/1632489         complete   \n",
       "3  ESPORTSTMNT03/1632489         complete   \n",
       "4  ESPORTSTMNT03/1632489         complete   \n",
       "\n",
       "                                                 url league  year split  \\\n",
       "0  http://matchhistory.na.leagueoflegends.com/en/...  KeSPA  2021   NaN   \n",
       "1  http://matchhistory.na.leagueoflegends.com/en/...  KeSPA  2021   NaN   \n",
       "2  http://matchhistory.na.leagueoflegends.com/en/...  KeSPA  2021   NaN   \n",
       "3  http://matchhistory.na.leagueoflegends.com/en/...  KeSPA  2021   NaN   \n",
       "4  http://matchhistory.na.leagueoflegends.com/en/...  KeSPA  2021   NaN   \n",
       "\n",
       "   playoffs                 date  game  patch  ...  opp_csat15 golddiffat15  \\\n",
       "0         0  2021-01-02 07:40:39   1.0  10.25  ...       118.0        748.0   \n",
       "1         0  2021-01-02 07:40:39   1.0  10.25  ...        84.0       2120.0   \n",
       "2         0  2021-01-02 07:40:39   1.0  10.25  ...       143.0       1578.0   \n",
       "3         0  2021-01-02 07:40:39   1.0  10.25  ...       120.0        124.0   \n",
       "4         0  2021-01-02 07:40:39   1.0  10.25  ...        25.0        448.0   \n",
       "\n",
       "  xpdiffat15 csdiffat15 killsat15 assistsat15 deathsat15 opp_killsat15  \\\n",
       "0      -56.0       -4.0       2.0         0.0        1.0           0.0   \n",
       "1     3405.0       62.0       3.0         2.0        0.0           2.0   \n",
       "2      354.0       15.0       2.0         3.0        0.0           0.0   \n",
       "3      102.0       10.0       0.0         4.0        2.0           1.0   \n",
       "4      450.0        3.0       1.0         4.0        0.0           0.0   \n",
       "\n",
       "  opp_assistsat15 opp_deathsat15  \n",
       "0             1.0            1.0  \n",
       "1             0.0            3.0  \n",
       "2             0.0            0.0  \n",
       "3             1.0            2.0  \n",
       "4             2.0            2.0  \n",
       "\n",
       "[5 rows x 123 columns]"
      ]
     },
     "execution_count": 2,
     "metadata": {},
     "output_type": "execute_result"
    }
   ],
   "source": [
    "file_path21 = 'lol_2021.csv'\n",
    "file_path22 = 'lol_2022.csv'\n",
    "file_path23 = 'lol_2023.csv'\n",
    "lol_data21 = pd.read_csv(file_path21, engine='python')\n",
    "lol_data22 = pd.read_csv(file_path22, engine='python')\n",
    "lol_data23 = pd.read_csv(file_path23, engine='python')\n",
    "\n",
    "# call concat to merge into one df\n",
    "lol_data = pd.concat([lol_data21, lol_data22, lol_data23])\n",
    "# display the first few rows of the df\n",
    "lol_data.head()"
   ]
  },
  {
   "cell_type": "markdown",
   "id": "02e820f1-7bbd-4352-83d0-7e885f284449",
   "metadata": {},
   "source": [
    "We will look to filter the data so that we only want the relevant information - grouped by unique game, which combinations of champions won the game and versus who?"
   ]
  },
  {
   "cell_type": "code",
   "execution_count": 3,
   "id": "2d236cd3-f159-4dee-a259-57354543bf00",
   "metadata": {
    "tags": []
   },
   "outputs": [
    {
     "data": {
      "text/html": [
       "<div>\n",
       "<style scoped>\n",
       "    .dataframe tbody tr th:only-of-type {\n",
       "        vertical-align: middle;\n",
       "    }\n",
       "\n",
       "    .dataframe tbody tr th {\n",
       "        vertical-align: top;\n",
       "    }\n",
       "\n",
       "    .dataframe thead th {\n",
       "        text-align: right;\n",
       "    }\n",
       "</style>\n",
       "<table border=\"1\" class=\"dataframe\">\n",
       "  <thead>\n",
       "    <tr style=\"text-align: right;\">\n",
       "      <th></th>\n",
       "      <th>gameid</th>\n",
       "      <th>champion</th>\n",
       "      <th>result</th>\n",
       "    </tr>\n",
       "  </thead>\n",
       "  <tbody>\n",
       "    <tr>\n",
       "      <th>0</th>\n",
       "      <td>ESPORTSTMNT03/1632489</td>\n",
       "      <td>Mordekaiser</td>\n",
       "      <td>1</td>\n",
       "    </tr>\n",
       "    <tr>\n",
       "      <th>1</th>\n",
       "      <td>ESPORTSTMNT03/1632489</td>\n",
       "      <td>Graves</td>\n",
       "      <td>1</td>\n",
       "    </tr>\n",
       "    <tr>\n",
       "      <th>2</th>\n",
       "      <td>ESPORTSTMNT03/1632489</td>\n",
       "      <td>Zoe</td>\n",
       "      <td>1</td>\n",
       "    </tr>\n",
       "    <tr>\n",
       "      <th>3</th>\n",
       "      <td>ESPORTSTMNT03/1632489</td>\n",
       "      <td>Miss Fortune</td>\n",
       "      <td>1</td>\n",
       "    </tr>\n",
       "    <tr>\n",
       "      <th>4</th>\n",
       "      <td>ESPORTSTMNT03/1632489</td>\n",
       "      <td>Galio</td>\n",
       "      <td>1</td>\n",
       "    </tr>\n",
       "    <tr>\n",
       "      <th>...</th>\n",
       "      <td>...</td>\n",
       "      <td>...</td>\n",
       "      <td>...</td>\n",
       "    </tr>\n",
       "    <tr>\n",
       "      <th>128333</th>\n",
       "      <td>ESPORTSTMNT04_2704022</td>\n",
       "      <td>Renekton</td>\n",
       "      <td>1</td>\n",
       "    </tr>\n",
       "    <tr>\n",
       "      <th>128334</th>\n",
       "      <td>ESPORTSTMNT04_2704022</td>\n",
       "      <td>Ivern</td>\n",
       "      <td>1</td>\n",
       "    </tr>\n",
       "    <tr>\n",
       "      <th>128335</th>\n",
       "      <td>ESPORTSTMNT04_2704022</td>\n",
       "      <td>Tristana</td>\n",
       "      <td>1</td>\n",
       "    </tr>\n",
       "    <tr>\n",
       "      <th>128336</th>\n",
       "      <td>ESPORTSTMNT04_2704022</td>\n",
       "      <td>Sivir</td>\n",
       "      <td>1</td>\n",
       "    </tr>\n",
       "    <tr>\n",
       "      <th>128337</th>\n",
       "      <td>ESPORTSTMNT04_2704022</td>\n",
       "      <td>Zyra</td>\n",
       "      <td>1</td>\n",
       "    </tr>\n",
       "  </tbody>\n",
       "</table>\n",
       "<p>356290 rows × 3 columns</p>\n",
       "</div>"
      ],
      "text/plain": [
       "                       gameid      champion  result\n",
       "0       ESPORTSTMNT03/1632489   Mordekaiser       1\n",
       "1       ESPORTSTMNT03/1632489        Graves       1\n",
       "2       ESPORTSTMNT03/1632489           Zoe       1\n",
       "3       ESPORTSTMNT03/1632489  Miss Fortune       1\n",
       "4       ESPORTSTMNT03/1632489         Galio       1\n",
       "...                       ...           ...     ...\n",
       "128333  ESPORTSTMNT04_2704022      Renekton       1\n",
       "128334  ESPORTSTMNT04_2704022         Ivern       1\n",
       "128335  ESPORTSTMNT04_2704022      Tristana       1\n",
       "128336  ESPORTSTMNT04_2704022         Sivir       1\n",
       "128337  ESPORTSTMNT04_2704022          Zyra       1\n",
       "\n",
       "[356290 rows x 3 columns]"
      ]
     },
     "execution_count": 3,
     "metadata": {},
     "output_type": "execute_result"
    }
   ],
   "source": [
    "# displaying a few rows from the dataset that are not filtered by 'position' being 'team'\n",
    "non_team_data = lol_data[lol_data['position'] != 'team']\n",
    "non_team_data[['gameid', 'champion', 'result']]"
   ]
  },
  {
   "cell_type": "markdown",
   "id": "209b020f-83c4-466f-9249-1e42ae8e2943",
   "metadata": {},
   "source": [
    "Lets encode the champion data into an integer format, giving each unique champion its own ID. One-hot encoding?"
   ]
  },
  {
   "cell_type": "code",
   "execution_count": 4,
   "id": "1610b5ba-a3dd-4069-8a04-55eb060dea85",
   "metadata": {
    "tags": []
   },
   "outputs": [
    {
     "data": {
      "text/plain": [
       "[('Mordekaiser', 1),\n",
       " ('Graves', 2),\n",
       " ('Zoe', 3),\n",
       " ('Miss Fortune', 4),\n",
       " ('Galio', 5),\n",
       " ('Ornn', 6),\n",
       " ('Kindred', 7),\n",
       " ('Orianna', 8),\n",
       " ('Ezreal', 9),\n",
       " ('Leona', 10),\n",
       " (nan, 11),\n",
       " ('Gragas', 12)]"
      ]
     },
     "execution_count": 4,
     "metadata": {},
     "output_type": "execute_result"
    }
   ],
   "source": [
    "# check for unique champions in the 'champion' column\n",
    "unique_champions = lol_data['champion'].unique()\n",
    "unique_champions[:10], len(unique_champions)  # Display the first 10 and count of unique champions\n",
    "\n",
    "# creating a mapping from champion names to unique numerical IDs\n",
    "champion_id_map = {name: i+1 for i, name in enumerate(unique_champions)}\n",
    "\n",
    "# display top 10\n",
    "list(champion_id_map.items())[:12]\n",
    "\n",
    "# note that the professional 2023 season excludes a few champions due to not being selected\n",
    "\n",
    "# note that 11 is set to nan, will need to filter out games containing 11"
   ]
  },
  {
   "cell_type": "markdown",
   "id": "134eb753-3fb5-4d0f-babe-1388de7638e3",
   "metadata": {},
   "source": [
    "After which, we can make a game log that shows which mapped champions have won and lost the game, for each unique game. This allows us to have our y variable (result), and our first team in columns 0-4, and second team in columns 5-9. "
   ]
  },
  {
   "cell_type": "code",
   "execution_count": 5,
   "id": "e1026869-567f-4a3a-b16a-690472f1d227",
   "metadata": {
    "tags": []
   },
   "outputs": [
    {
     "name": "stdout",
     "output_type": "stream",
     "text": [
      "   team1_champ1  team1_champ2  team1_champ3  team1_champ4  team1_champ5  \\\n",
      "0            26            73            38            14            43   \n",
      "1            26            30            46            75            66   \n",
      "2            45            73            12            53           102   \n",
      "3            24            55           158           159            40   \n",
      "4            56            47            46            75            15   \n",
      "\n",
      "   team2_champ1  team2_champ2  team2_champ3  team2_champ4  team2_champ5  \\\n",
      "0           163           153             5           159            15   \n",
      "1            12             2             5            53           140   \n",
      "2           163           139           103           143            66   \n",
      "3            69            70            35            48            91   \n",
      "4            28            86           116            71            43   \n",
      "\n",
      "   result  \n",
      "0       0  \n",
      "1       1  \n",
      "2       0  \n",
      "3       1  \n",
      "4       1  \n"
     ]
    }
   ],
   "source": [
    "grouped_data = non_team_data.groupby('gameid')\n",
    "game_data = []\n",
    "\n",
    "for game_id, group in grouped_data:\n",
    "    # sort the group by the index to ensure the first team in the data comes first\n",
    "    group = group.sort_index()\n",
    "\n",
    "    # get the mapped champion IDs for the first team and the second team \n",
    "    first_team_ids = [champion_id_map[champ] for champ in group.head(5)['champion']]\n",
    "    second_team_ids = [champion_id_map[champ] for champ in group.tail(5)['champion']]\n",
    "\n",
    "    # check if the first team is the winning team, returns 1 if so, 0 if not\n",
    "    game_result = int(group.head(1)['result'].iloc[0])\n",
    "\n",
    "    # combine the two teams and add the result on the end\n",
    "    game_row = first_team_ids + second_team_ids + [game_result]\n",
    "    game_data.append(game_row)\n",
    "\n",
    "# create a new df\n",
    "column_names = ['team1_champ1', 'team1_champ2', 'team1_champ3', 'team1_champ4', 'team1_champ5', \n",
    "                'team2_champ1', 'team2_champ2', 'team2_champ3', 'team2_champ4', 'team2_champ5', \n",
    "                'result']\n",
    "games_df = pd.DataFrame(game_data, columns=column_names)\n",
    "\n",
    "print(games_df.head(5))"
   ]
  },
  {
   "cell_type": "code",
   "execution_count": 6,
   "id": "3db2a90c-beee-4824-9c85-b667925d7a4d",
   "metadata": {
    "tags": []
   },
   "outputs": [],
   "source": [
    "games_df.to_csv('games_df.csv', index=False)"
   ]
  },
  {
   "cell_type": "markdown",
   "id": "f1eafeee-db14-4432-aa24-031250b43756",
   "metadata": {},
   "source": [
    "Now, we will split our data into a training set and testing set. "
   ]
  },
  {
   "cell_type": "code",
   "execution_count": 7,
   "id": "f718ce43-d14d-458e-bcca-60d856cb3c43",
   "metadata": {
    "tags": []
   },
   "outputs": [],
   "source": [
    "# Features will be the first 10 champions\n",
    "column_names = ['team1_champ1', 'team1_champ2', 'team1_champ3', 'team1_champ4', 'team1_champ5', \n",
    "                'team2_champ1', 'team2_champ2', 'team2_champ3', 'team2_champ4', 'team2_champ5']\n",
    "X = games_df[column_names]\n",
    "y = games_df.result\n",
    "\n",
    "# Splitting the dataset into 80/20 training/testing\n",
    "X_train, X_test, y_train, y_test = train_test_split(X, y, test_size=0.2, random_state=16)"
   ]
  },
  {
   "cell_type": "markdown",
   "id": "c0ce97d0-f913-4c11-beb9-a2430049b4c4",
   "metadata": {},
   "source": [
    "Import the sklearn log regression model and fit the data, and test it on the test dataset."
   ]
  },
  {
   "cell_type": "code",
   "execution_count": 8,
   "id": "d7376312-3c33-421d-a494-3faa0b7360c2",
   "metadata": {
    "tags": []
   },
   "outputs": [],
   "source": [
    "# import the class\n",
    "from sklearn.linear_model import LogisticRegression\n",
    "\n",
    "# instantiate the model (using the default parameters)\n",
    "logreg = LogisticRegression(random_state=16)\n",
    "\n",
    "# fit the model with data\n",
    "logreg.fit(X_train, y_train)\n",
    "\n",
    "y_pred = logreg.predict(X_test)"
   ]
  },
  {
   "cell_type": "markdown",
   "id": "8b4f312d-ce51-4bbd-9e31-e180d7e2ce0c",
   "metadata": {},
   "source": [
    "Evaluation below"
   ]
  },
  {
   "cell_type": "code",
   "execution_count": 9,
   "id": "12e4dfb9-5ed1-4240-a724-983701ae33e6",
   "metadata": {
    "tags": []
   },
   "outputs": [
    {
     "name": "stdout",
     "output_type": "stream",
     "text": [
      "              precision    recall  f1-score   support\n",
      "\n",
      "        loss       0.49      0.08      0.13      3312\n",
      "         win       0.54      0.93      0.68      3814\n",
      "\n",
      "    accuracy                           0.53      7126\n",
      "   macro avg       0.51      0.50      0.41      7126\n",
      "weighted avg       0.52      0.53      0.43      7126\n",
      "\n"
     ]
    }
   ],
   "source": [
    "# import the metrics class\n",
    "from sklearn import metrics\n",
    "\n",
    "cnf_matrix = metrics.confusion_matrix(y_test, y_pred)\n",
    "cnf_matrix\n",
    "\n",
    "from sklearn.metrics import classification_report\n",
    "target_names = ['loss', 'win']\n",
    "print(classification_report(y_test, y_pred, target_names=target_names))"
   ]
  },
  {
   "cell_type": "markdown",
   "id": "4f27498c-edc5-4ba8-b7c6-77c209fdf55c",
   "metadata": {},
   "source": [
    "Not very accurate with a accuracy of only 53%... More data required?\n",
    "\n",
    "ROC Curve displayed below: results not great."
   ]
  },
  {
   "cell_type": "code",
   "execution_count": 10,
   "id": "620ff987-dae8-417a-a671-48f0bbfa5fd4",
   "metadata": {
    "tags": []
   },
   "outputs": [
    {
     "data": {
      "image/png": "[encoded data removed]",
      "text/plain": [
       "<Figure size 640x480 with 1 Axes>"
      ]
     },
     "metadata": {},
     "output_type": "display_data"
    }
   ],
   "source": [
    "# set up and display ROC curve\n",
    "y_pred_proba = logreg.predict_proba(X_test)[::,1]\n",
    "fpr, tpr, _ = metrics.roc_curve(y_test,  y_pred_proba)\n",
    "auc = metrics.roc_auc_score(y_test, y_pred_proba)\n",
    "plt.plot(fpr,tpr,label=\"data 1, auc=\"+str(auc))\n",
    "plt.legend(loc=4)\n",
    "plt.show()"
   ]
  },
  {
   "cell_type": "markdown",
   "id": "6fc9c810-de45-4bab-910d-b6bdd6be1723",
   "metadata": {},
   "source": [
    "next steps: 2021 - 2022 data, tree methods? knn. use pytorch?"
   ]
  },
  {
   "cell_type": "code",
   "execution_count": null,
   "id": "f826a43f-4bf4-4aa0-ae71-c830f7a841d8",
   "metadata": {},
   "outputs": [],
   "source": []
  }
 ],
 "metadata": {
  "kernelspec": {
   "display_name": "Python 3 (ipykernel)",
   "language": "python",
   "name": "python3"
  },
  "language_info": {
   "codemirror_mode": {
    "name": "ipython",
    "version": 3
   },
   "file_extension": ".py",
   "mimetype": "text/x-python",
   "name": "python",
   "nbconvert_exporter": "python",
   "pygments_lexer": "ipython3",
   "version": "3.11.5"
  }
 },
 "nbformat": 4,
 "nbformat_minor": 5
}
